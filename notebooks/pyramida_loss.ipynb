{
 "cells": [
  {
   "cell_type": "code",
   "execution_count": 1,
   "metadata": {},
   "outputs": [
    {
     "name": "stdout",
     "output_type": "stream",
     "text": [
      "/home/baldeeb/Documents/Projects/dense_descriptors_and_acf/ContrastiveLearningOfDenseDescriptor\n"
     ]
    }
   ],
   "source": [
    "# %cd /home/baldeeb/Documents/Projects/ContrastiveLearningOfDenseDescriptor\n",
    "%cd /home/baldeeb/Documents/Projects/dense_descriptors_and_acf/ContrastiveLearningOfDenseDescriptor\n",
    "\n",
    "%load_ext autoreload\n",
    "%autoreload 2"
   ]
  },
  {
   "cell_type": "code",
   "execution_count": 2,
   "metadata": {},
   "outputs": [],
   "source": [
    "#temp config \n",
    "class cfg():\n",
    "    dataset = 'unreal_parts'\n",
    "    data_dir = '../simple_data'\n",
    "    image_type = 'RGB'\n",
    "    obj_class = 'mug'\n",
    "    n_pair = 0\n",
    "    n_nonpair_singleobj = 0 \n",
    "    n_nonpair_bg = 0\n",
    "    batch_size = 1\n",
    "    workers = 1\n",
    "\n",
    "    device = 'cuda:0'\n",
    "    # device = 'cpu'"
   ]
  },
  {
   "cell_type": "code",
   "execution_count": 3,
   "metadata": {},
   "outputs": [
    {
     "name": "stderr",
     "output_type": "stream",
     "text": [
      "/home/baldeeb/.local/lib/python3.8/site-packages/torch/nn/functional.py:718: UserWarning: Named tensors and all their associated APIs are an experimental feature and subject to change. Please do not use them for anything important until they are released as stable. (Triggered internally at  /pytorch/c10/core/TensorImpl.h:1156.)\n",
      "  return torch.max_pool2d(input, kernel_size, stride, padding, dilation, ceil_mode)\n"
     ]
    }
   ],
   "source": [
    "import torch \n",
    "from torchvision.models.segmentation import deeplabv3_resnet50\n",
    "\n",
    "## Load model\n",
    "file = 'temp/results_old/first_successful_run/model_checkpoints/13_09_2021__11_29_03_19_final'\n",
    "device = torch.device('cuda:0')\n",
    "state_dict = torch.load(file, map_location=device)\n",
    "backbone = deeplabv3_resnet50(num_classes=3).to(device)\n",
    "backbone.load_state_dict(state_dict['model_state_dict'])\n",
    "\n",
    "## Load data\n",
    "from dataset import make_data_loader\n",
    "dataloader = make_data_loader(split='train', args=cfg())\n",
    "\n",
    "## Run model\n",
    "descriptors, images = None, None\n",
    "for im, batch in dataloader:\n",
    "    images = im.to(device)\n",
    "    metas = batch[1]\n",
    "    descriptors = backbone(images)['out']\n",
    "    break\n"
   ]
  },
  {
   "cell_type": "code",
   "execution_count": 4,
   "metadata": {},
   "outputs": [
    {
     "name": "stdout",
     "output_type": "stream",
     "text": [
      "torch.Size([2, 3, 480, 640])\n",
      "torch.Size([2, 3, 240, 320])\n",
      "torch.Size([2, 3, 120, 160])\n"
     ]
    }
   ],
   "source": [
    "# Get some resized images\n",
    "\n",
    "from torchvision.transforms import Resize as resize\n",
    "\n",
    "(H, W) = images[0].shape[-2:]\n",
    "\n",
    "resized_images = []\n",
    "image_scales = [1, 0.5, 0.25]\n",
    "\n",
    "for scale in image_scales:\n",
    "    resized_images.append(resize([int(H*scale), int(W*scale)])(im.clone()))\n",
    "\n",
    "for im in resized_images:\n",
    "    print(im.shape)"
   ]
  },
  {
   "cell_type": "code",
   "execution_count": 19,
   "metadata": {},
   "outputs": [
    {
     "data": {
      "text/plain": [
       "{'match': [tensor(198.9897), tensor(98.7490), tensor(49.4792)],\n",
       " 'non_match': [tensor(0.5637), tensor(0.5657), tensor(0.5478)]}"
      ]
     },
     "execution_count": 19,
     "metadata": {},
     "output_type": "execute_result"
    }
   ],
   "source": [
    "from loss import pyramidal_contrastive_augmentation_loss as p_loss\n",
    "\n",
    "p_loss(resized_images, metas)"
   ]
  },
  {
   "cell_type": "code",
   "execution_count": null,
   "metadata": {},
   "outputs": [],
   "source": []
  }
 ],
 "metadata": {
  "interpreter": {
   "hash": "99ec159a32af17dfba3905522e87a76d2281d17d4ed25349b6aad653c2254f11"
  },
  "kernelspec": {
   "display_name": "Python 3.8.3 64-bit ('acf': conda)",
   "language": "python",
   "name": "python3"
  },
  "language_info": {
   "codemirror_mode": {
    "name": "ipython",
    "version": 3
   },
   "file_extension": ".py",
   "mimetype": "text/x-python",
   "name": "python",
   "nbconvert_exporter": "python",
   "pygments_lexer": "ipython3",
   "version": "3.8.3"
  },
  "orig_nbformat": 4
 },
 "nbformat": 4,
 "nbformat_minor": 2
}
