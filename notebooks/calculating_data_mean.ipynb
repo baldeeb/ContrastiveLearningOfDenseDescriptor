{
 "cells": [
  {
   "cell_type": "code",
   "execution_count": 1,
   "metadata": {},
   "outputs": [
    {
     "name": "stdout",
     "output_type": "stream",
     "text": [
      "/home/baldeeb/Documents/Projects/ContrastiveLearningOfDenseDescriptor\n"
     ]
    }
   ],
   "source": [
    "# cd into project directory \n",
    "%cd /home/baldeeb/Documents/Projects/ContrastiveLearningOfDenseDescriptor\n",
    "\n",
    "%load_ext autoreload\n",
    "%autoreload 2\n",
    "\n",
    "import numpy as np\n",
    "import torch\n",
    "\n",
    "from tqdm import tqdm \n"
   ]
  },
  {
   "cell_type": "code",
   "execution_count": 2,
   "metadata": {},
   "outputs": [],
   "source": [
    "# Tools needed to setup data loader\n",
    "from dataset import make_data_loader\n",
    "\n",
    "class dataset_cfg():\n",
    "    dataset = 'unreal_parts'\n",
    "    data_dir = '../simple_data'\n",
    "    image_type = 'RGB'\n",
    "    batch_size = 1\n",
    "    workers = 1"
   ]
  },
  {
   "cell_type": "markdown",
   "metadata": {},
   "source": [
    "# Mean std stuff "
   ]
  },
  {
   "cell_type": "code",
   "execution_count": null,
   "metadata": {},
   "outputs": [],
   "source": [
    "# Calculate dataset Mean and Standard dev\n",
    "unreal_data = make_data_loader(split='train', args=dataset_cfg(), return_dataset=True)\n",
    "unreal_data.iterate_randomly = False\n",
    "\n",
    "image_count = len(unreal_data)\n",
    "total_pixel_values = torch.zeros(3)\n",
    "for i, data in enumerate(tqdm(unreal_data)):\n",
    "    if i >= image_count: break\n",
    "    total_pixel_values += data['image'].sum(dim=[1,2])\n",
    "\n",
    "pixel_count_per_image = unreal_data.width * unreal_data.height\n",
    "total_pixel_count = pixel_count_per_image * image_count\n",
    "dataset_mean = total_pixel_values / total_pixel_count \n",
    "\n",
    "total_mean_dist_squared = torch.zeros(3)\n",
    "for i, data in enumerate(tqdm(unreal_data)):\n",
    "    if i >= image_count: break\n",
    "    temp = data['image'].reshape(3, -1) - dataset_mean.unsqueeze(1)\n",
    "    total_mean_dist_squared += temp.square().sum(dim=1)\n",
    "dataset_std = (total_mean_dist_squared/count).sqrt()\n",
    "\n",
    "dataset_mean, dataset_std"
   ]
  },
  {
   "cell_type": "code",
   "execution_count": null,
   "metadata": {},
   "outputs": [],
   "source": [
    "\n",
    "# ## Approximating sample mean and variance\n",
    "# # Calculate dataset Mean and Standard dev\n",
    "# unreal_data = make_data_loader(split='train', args=dataset_cfg(), return_dataset=True)\n",
    "# unreal_data.iterate_randomly = False\n",
    "\n",
    "# image_count = len(unreal_data)\n",
    "# total_pixel_values = torch.zeros(3)\n",
    "# total_pixel_squared_values = torch.zeros(3)\n",
    "# for i, data in enumerate(tqdm(unreal_data)):\n",
    "#     if i >= image_count: break\n",
    "#     total_pixel_values += data['image'].sum(dim=[1,2])\n",
    "#     total_pixel_squared_values += data['image'].square().sum(dim=[1,2])\n",
    "\n",
    "# pixel_count_per_image = unreal_data.width * unreal_data.height\n",
    "# total_pixel_count = pixel_count_per_image * image_count\n",
    "\n",
    "# dataset_mean = total_pixel_values / total_pixel_count\n",
    "# dataset_std = (total_pixel_squared_values / total_pixel_count) - dataset_mean.square()\n",
    "\n",
    "# dataset_mean, dataset_std"
   ]
  },
  {
   "cell_type": "code",
   "execution_count": null,
   "metadata": {},
   "outputs": [],
   "source": [
    "dataset_mean, dataset_std = [0.5183, 0.5747, 0.7210], [0.3218, 0.3045, 0.2688]\n",
    "unreal_data = make_data_loader(split='train', args=dataset_cfg(), return_dataset=True)\n",
    "image = None\n",
    "for data in unreal_data: image = data['image']; break\n",
    "\n",
    "from torchvision.transforms import Normalize\n",
    "N = Normalize(mean=dataset_mean, std=dataset_std)\n",
    "normalized = N(image)\n",
    "\n",
    "print(f\"image shape: {normalized.shape}\")\n",
    "for i in range(3):\n",
    "    print(f\"channel {i}, mean: {normalized[i].mean()},  standard dev: {normalized[i].std()}\")"
   ]
  }
 ],
 "metadata": {
  "interpreter": {
   "hash": "c90c8177155350ad371b80bca09271126c3d71512636c26ee349c1207e0a37f3"
  },
  "kernelspec": {
   "display_name": "Python 3.8.3 64-bit ('acf': conda)",
   "name": "python3"
  },
  "language_info": {
   "codemirror_mode": {
    "name": "ipython",
    "version": 3
   },
   "file_extension": ".py",
   "mimetype": "text/x-python",
   "name": "python",
   "nbconvert_exporter": "python",
   "pygments_lexer": "ipython3",
   "version": "3.8.3"
  },
  "orig_nbformat": 4
 },
 "nbformat": 4,
 "nbformat_minor": 2
}
